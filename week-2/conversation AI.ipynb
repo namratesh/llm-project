{
 "cells": [
  {
   "cell_type": "code",
   "execution_count": 2,
   "metadata": {},
   "outputs": [
    {
     "name": "stderr",
     "output_type": "stream",
     "text": [
      "/Users/namrateshshrivastav/miniconda3/envs/projects/lib/python3.10/site-packages/tqdm/auto.py:21: TqdmWarning: IProgress not found. Please update jupyter and ipywidgets. See https://ipywidgets.readthedocs.io/en/stable/user_install.html\n",
      "  from .autonotebook import tqdm as notebook_tqdm\n"
     ]
    }
   ],
   "source": [
    "import os\n",
    "from openai import OpenAI\n",
    "from IPython.display import Markdown, display, update_display\n",
    "import gradio as gr"
   ]
  },
  {
   "cell_type": "code",
   "execution_count": 3,
   "metadata": {},
   "outputs": [],
   "source": [
    "model_name = \"llama3.2\"\n",
    "llm = OpenAI(base_url=\"http://localhost:11434/v1\", api_key=\"ollama\")"
   ]
  },
  {
   "cell_type": "code",
   "execution_count": 4,
   "metadata": {},
   "outputs": [],
   "source": [
    "system_message = \"You are a helpful assistant\""
   ]
  },
  {
   "cell_type": "code",
   "execution_count": null,
   "metadata": {},
   "outputs": [],
   "source": [
    "def chat(message, history):\n",
    "    messages = [ {\"role\": \"system\",\n",
    "                  \"content\" : system_message}] + history + [\n",
    "                {\"role\": \"user\",\n",
    "                 \"content\": message}]\n",
    "                  \n",
    "    print(\"History:\", history)\n",
    "    print(\"Message:\", messages)\n",
    "    \n",
    "    stream = llm.chat.completions.create(model = model_name, messages=messages, stream=True)\n",
    "    response = \"\"\n",
    "    for chunk in stream:\n",
    "        response += chunk.choices[0].delta.content or \"\"\n",
    "        yield response\n",
    "        \n",
    "    "
   ]
  },
  {
   "cell_type": "code",
   "execution_count": 6,
   "metadata": {},
   "outputs": [
    {
     "name": "stdout",
     "output_type": "stream",
     "text": [
      "* Running on local URL:  http://127.0.0.1:7866\n",
      "\n",
      "To create a public link, set `share=True` in `launch()`.\n"
     ]
    },
    {
     "data": {
      "text/html": [
       "<div><iframe src=\"http://127.0.0.1:7866/\" width=\"100%\" height=\"500\" allow=\"autoplay; camera; microphone; clipboard-read; clipboard-write;\" frameborder=\"0\" allowfullscreen></iframe></div>"
      ],
      "text/plain": [
       "<IPython.core.display.HTML object>"
      ]
     },
     "metadata": {},
     "output_type": "display_data"
    },
    {
     "data": {
      "text/plain": []
     },
     "execution_count": 6,
     "metadata": {},
     "output_type": "execute_result"
    },
    {
     "name": "stdout",
     "output_type": "stream",
     "text": [
      "History: []\n",
      "Message: Hi\n"
     ]
    },
    {
     "name": "stderr",
     "output_type": "stream",
     "text": [
      "Traceback (most recent call last):\n",
      "  File \"/Users/namrateshshrivastav/miniconda3/envs/projects/lib/python3.10/site-packages/gradio/queueing.py\", line 625, in process_events\n",
      "    response = await route_utils.call_process_api(\n",
      "  File \"/Users/namrateshshrivastav/miniconda3/envs/projects/lib/python3.10/site-packages/gradio/route_utils.py\", line 322, in call_process_api\n",
      "    output = await app.get_blocks().process_api(\n",
      "  File \"/Users/namrateshshrivastav/miniconda3/envs/projects/lib/python3.10/site-packages/gradio/blocks.py\", line 2088, in process_api\n",
      "    result = await self.call_function(\n",
      "  File \"/Users/namrateshshrivastav/miniconda3/envs/projects/lib/python3.10/site-packages/gradio/blocks.py\", line 1647, in call_function\n",
      "    prediction = await utils.async_iteration(iterator)\n",
      "  File \"/Users/namrateshshrivastav/miniconda3/envs/projects/lib/python3.10/site-packages/gradio/utils.py\", line 728, in async_iteration\n",
      "    return await anext(iterator)\n",
      "  File \"/Users/namrateshshrivastav/miniconda3/envs/projects/lib/python3.10/site-packages/gradio/utils.py\", line 833, in asyncgen_wrapper\n",
      "    response = await iterator.__anext__()\n",
      "  File \"/Users/namrateshshrivastav/miniconda3/envs/projects/lib/python3.10/site-packages/gradio/chat_interface.py\", line 898, in _stream_fn\n",
      "    first_response = await utils.async_iteration(generator)\n",
      "  File \"/Users/namrateshshrivastav/miniconda3/envs/projects/lib/python3.10/site-packages/gradio/utils.py\", line 728, in async_iteration\n",
      "    return await anext(iterator)\n",
      "  File \"/Users/namrateshshrivastav/miniconda3/envs/projects/lib/python3.10/site-packages/gradio/utils.py\", line 722, in __anext__\n",
      "    return await anyio.to_thread.run_sync(\n",
      "  File \"/Users/namrateshshrivastav/miniconda3/envs/projects/lib/python3.10/site-packages/anyio/to_thread.py\", line 56, in run_sync\n",
      "    return await get_async_backend().run_sync_in_worker_thread(\n",
      "  File \"/Users/namrateshshrivastav/miniconda3/envs/projects/lib/python3.10/site-packages/anyio/_backends/_asyncio.py\", line 2461, in run_sync_in_worker_thread\n",
      "    return await future\n",
      "  File \"/Users/namrateshshrivastav/miniconda3/envs/projects/lib/python3.10/site-packages/anyio/_backends/_asyncio.py\", line 962, in run\n",
      "    result = context.run(func, *args)\n",
      "  File \"/Users/namrateshshrivastav/miniconda3/envs/projects/lib/python3.10/site-packages/gradio/utils.py\", line 705, in run_sync_iterator_async\n",
      "    return next(iterator)\n",
      "  File \"/var/folders/6k/m4v5sk1n0d150v30knjkwb240000gn/T/ipykernel_44740/2851058458.py\", line 10, in chat\n",
      "    stream = llm.chat.completions.create(model = model_name, messages=message, stream=True)\n",
      "  File \"/Users/namrateshshrivastav/miniconda3/envs/projects/lib/python3.10/site-packages/openai/_utils/_utils.py\", line 279, in wrapper\n",
      "    return func(*args, **kwargs)\n",
      "  File \"/Users/namrateshshrivastav/miniconda3/envs/projects/lib/python3.10/site-packages/openai/resources/chat/completions.py\", line 863, in create\n",
      "    return self._post(\n",
      "  File \"/Users/namrateshshrivastav/miniconda3/envs/projects/lib/python3.10/site-packages/openai/_base_client.py\", line 1283, in post\n",
      "    return cast(ResponseT, self.request(cast_to, opts, stream=stream, stream_cls=stream_cls))\n",
      "  File \"/Users/namrateshshrivastav/miniconda3/envs/projects/lib/python3.10/site-packages/openai/_base_client.py\", line 960, in request\n",
      "    return self._request(\n",
      "  File \"/Users/namrateshshrivastav/miniconda3/envs/projects/lib/python3.10/site-packages/openai/_base_client.py\", line 1064, in _request\n",
      "    raise self._make_status_error_from_response(err.response) from None\n",
      "openai.BadRequestError: Error code: 400 - {'error': {'message': 'json: cannot unmarshal string into Go struct field ChatCompletionRequest.messages of type []openai.Message', 'type': 'invalid_request_error', 'param': None, 'code': None}}\n"
     ]
    }
   ],
   "source": [
    "gr.ChatInterface(fn =chat, type = \"messages\").launch()"
   ]
  },
  {
   "cell_type": "code",
   "execution_count": null,
   "metadata": {},
   "outputs": [],
   "source": []
  }
 ],
 "metadata": {
  "kernelspec": {
   "display_name": "projects",
   "language": "python",
   "name": "python3"
  },
  "language_info": {
   "codemirror_mode": {
    "name": "ipython",
    "version": 3
   },
   "file_extension": ".py",
   "mimetype": "text/x-python",
   "name": "python",
   "nbconvert_exporter": "python",
   "pygments_lexer": "ipython3",
   "version": "3.10.16"
  }
 },
 "nbformat": 4,
 "nbformat_minor": 2
}
