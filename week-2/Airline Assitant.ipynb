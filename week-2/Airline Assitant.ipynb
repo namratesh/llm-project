{
 "cells": [
  {
   "cell_type": "code",
   "execution_count": null,
   "metadata": {},
   "outputs": [],
   "source": [
    "import os\n",
    "from openai import OpenAI\n",
    "from IPython.display import Markdown, display, update_display\n",
    "import gradio as gr"
   ]
  },
  {
   "cell_type": "code",
   "execution_count": null,
   "metadata": {},
   "outputs": [],
   "source": [
    "model_name = \"llama3.2\"\n",
    "llm = OpenAI(base_url=\"http://localhost:11434/v1\", api_key=\"ollama\")"
   ]
  },
  {
   "cell_type": "code",
   "execution_count": null,
   "metadata": {},
   "outputs": [],
   "source": [
    "system_message = \"You are a helpful assistant for an Airline called FlightAI. \"\n",
    "system_message += \"Give short, courteous answers, no more than 1 sentence. \"\n",
    "system_message += \"Always be accurate. If you don't know the answer, say so.\"\n",
    "\n",
    "system_message"
   ]
  },
  {
   "cell_type": "code",
   "execution_count": null,
   "metadata": {},
   "outputs": [],
   "source": [
    "def chat(message, history):\n",
    "    messages = [{\"role\": \"system\", \"content\": system_message}] + history + [{\"role\": \"user\", \"content\": message}]\n",
    "    response = llm.chat.completions.create(model = model_name, messages=messages)\n",
    "    return response.choices[0].message.content\n",
    "\n",
    "\n",
    "gr.ChatInterface(fn = chat, type = \"messages\").launch()"
   ]
  },
  {
   "cell_type": "markdown",
   "metadata": {},
   "source": [
    "# Tools"
   ]
  },
  {
   "cell_type": "code",
   "execution_count": 39,
   "metadata": {},
   "outputs": [
    {
     "name": "stdout",
     "output_type": "stream",
     "text": [
      "Tool get_ticket_price called for london\n"
     ]
    },
    {
     "data": {
      "text/plain": [
       "'$799'"
      ]
     },
     "execution_count": 39,
     "metadata": {},
     "output_type": "execute_result"
    }
   ],
   "source": [
    "ticket_prices = {\"london\": \"$799\", \"paris\": \"$899\", \"tokyo\": \"$1400\", \"berlin\": \"$499\"}\n",
    "\n",
    "def get_ticket_price(destination_city):\n",
    "    print(f\"Tool get_ticket_price called for {destination_city}\")\n",
    "    if destination_city:\n",
    "        destination_city = destination_city.lower()\n",
    "    return ticket_prices.get(destination_city, \"Unknown\")\n",
    "\n",
    "\n",
    "get_ticket_price(\"london\")"
   ]
  },
  {
   "cell_type": "code",
   "execution_count": 40,
   "metadata": {},
   "outputs": [
    {
     "data": {
      "text/plain": [
       "{'name': 'get_ticket_price',\n",
       " 'description': \"Get the price of a return ticket to the destination city. Call this whenever you need to know the ticket price, for example when a customer asks 'How much is a ticket to this city' \",\n",
       " 'parameters': {'type': 'object',\n",
       "  'properties': {'destination_city': {'type': 'string',\n",
       "    'description': 'The city that the customer wants to travel to'}},\n",
       "  'required': ['destination_city'],\n",
       "  'additionalProperties': False}}"
      ]
     },
     "execution_count": 40,
     "metadata": {},
     "output_type": "execute_result"
    }
   ],
   "source": [
    "price_function = {\n",
    "    \"name\": \"get_ticket_price\",\n",
    "    \"description\" : \"Get the price of a return ticket to the destination city. Call this whenever you need to know the ticket price, for example when a customer asks 'How much is a ticket to this city' \",\n",
    "    \"parameters\": {\n",
    "        \"type\": \"object\",\n",
    "        \"properties\": {\n",
    "            \"destination_city\": {\n",
    "                \"type\": \"string\",\n",
    "                \"description\": \"The city that the customer wants to travel to\",\n",
    "            },\n",
    "        },\n",
    "        \"required\": [\"destination_city\"],\n",
    "        \"additionalProperties\": False\n",
    "        }\n",
    "    \n",
    "    \n",
    "}\n",
    "price_function"
   ]
  },
  {
   "cell_type": "code",
   "execution_count": 41,
   "metadata": {},
   "outputs": [
    {
     "data": {
      "text/plain": [
       "[{'type': 'function',\n",
       "  'function': {'name': 'get_ticket_price',\n",
       "   'description': \"Get the price of a return ticket to the destination city. Call this whenever you need to know the ticket price, for example when a customer asks 'How much is a ticket to this city' \",\n",
       "   'parameters': {'type': 'object',\n",
       "    'properties': {'destination_city': {'type': 'string',\n",
       "      'description': 'The city that the customer wants to travel to'}},\n",
       "    'required': ['destination_city'],\n",
       "    'additionalProperties': False}}}]"
      ]
     },
     "execution_count": 41,
     "metadata": {},
     "output_type": "execute_result"
    }
   ],
   "source": [
    "tools = [{ \"type\": \"function\", \"function\": price_function}]\n",
    "tools"
   ]
  },
  {
   "cell_type": "code",
   "execution_count": 42,
   "metadata": {},
   "outputs": [],
   "source": [
    "import json\n",
    "def handle_tool_call(message):\n",
    "    tool_call = message.tool_calls[0]\n",
    "    print(\"tool_call\", tool_call)\n",
    "    arguments = json.loads(tool_call.function.arguments)\n",
    "    print(\"arguments\", arguments)\n",
    "    city = arguments.get('destination_city')\n",
    "    price = get_ticket_price(city)\n",
    "    print(\"price\", price)\n",
    "    response = {\n",
    "        \"role\": \"tool\",\n",
    "        \"content\" : json.dumps({\"destination_city\": city, \"price\": price}),\n",
    "        \"tool_call_id\" : tool_call.id\n",
    "    }\n",
    "    \n",
    "    return response, city\n"
   ]
  },
  {
   "cell_type": "code",
   "execution_count": null,
   "metadata": {},
   "outputs": [],
   "source": [
    "def chat(message, history):\n",
    "    messages = [{\"role\": \"system\", \"content\": system_message}] + history + [{\"role\": \"user\", \"content\": message}]\n",
    "    response = llm.chat.completions.create(model = model_name, messages=messages, tools = tools)\n",
    "    print(\"response\", response)\n",
    "    if  response.choices[0].finish_reason == \"tools_calls\":\n",
    "        print(\"inside tool\")\n",
    "        message = response.choices[0].messages\n",
    "        print(\"message\", message)\n",
    "        response, city = handle_tool_call(message)\n",
    "        print(\"response\", response)\n",
    "        messages.append(messages)\n",
    "        messages.append(response)\n",
    "        print(messages)\n",
    "        response = llm.chat.completions.create(model = model_name, messages=messages)\n",
    "        \n",
    "    return response.choices[0].message.content\n",
    "\n",
    "gr.ChatInterface(fn = chat, type = \"messages\").launch()"
   ]
  },
  {
   "cell_type": "code",
   "execution_count": null,
   "metadata": {},
   "outputs": [
    {
     "name": "stdout",
     "output_type": "stream",
     "text": [
      "* Running on local URL:  http://127.0.0.1:7883\n",
      "\n",
      "To create a public link, set `share=True` in `launch()`.\n"
     ]
    },
    {
     "data": {
      "text/html": [
       "<div><iframe src=\"http://127.0.0.1:7883/\" width=\"100%\" height=\"500\" allow=\"autoplay; camera; microphone; clipboard-read; clipboard-write;\" frameborder=\"0\" allowfullscreen></iframe></div>"
      ],
      "text/plain": [
       "<IPython.core.display.HTML object>"
      ]
     },
     "metadata": {},
     "output_type": "display_data"
    },
    {
     "data": {
      "text/plain": []
     },
     "execution_count": 51,
     "metadata": {},
     "output_type": "execute_result"
    },
    {
     "name": "stdout",
     "output_type": "stream",
     "text": [
      "response: ChatCompletion(id='chatcmpl-688', choices=[Choice(finish_reason='stop', index=0, logprobs=None, message=ChatCompletionMessage(content='{\"name\":\"get_ticket_price\",\"parameters\": {\"destination_city\":\"\",\"$ref\",\"#e\"}}', refusal=None, role='assistant', audio=None, function_call=None, tool_calls=None))], created=1739022818, model='llama3.2', object='chat.completion', service_tier=None, system_fingerprint='fp_ollama', usage=CompletionUsage(completion_tokens=19, prompt_tokens=238, total_tokens=257, completion_tokens_details=None, prompt_tokens_details=None))\n"
     ]
    }
   ],
   "source": [
    "model_name = \"llama3.2\"\n",
    "def chat(message, history):\n",
    "    messages = [{\"role\": \"system\", \"content\": system_message}] + history + [{\"role\": \"user\", \"content\": message}]\n",
    "    response = llm.chat.completions.create(model = model_name, messages=messages, \n",
    "                                           tools = tools\n",
    "                                           )\n",
    "    print(\"response:\", response)\n",
    "    if  response.choices[0].finish_reason == \"tool_calls\":\n",
    "        message = response.choices[0].message\n",
    "        response, city = handle_tool_call(message)\n",
    "        messages.append(message)\n",
    "        messages.append(response)\n",
    "        response = llm.chat.completions.create(model = model_name, messages=messages)\n",
    "        # message = response.choices[0].message\n",
    "        # response, city = handle_tool_call(message)\n",
    "        # messages.append(message)\n",
    "        # messages.append(response)\n",
    "        # response = llm.chat.completions.create(model=model_name, messages=messages)\n",
    "        \n",
    "    return response.choices[0].message.content\n",
    "\n",
    "# chat(\"price ticket for london\", [])\n",
    "gr.ChatInterface(fn = chat, type = \"messages\").launch()"
   ]
  },
  {
   "cell_type": "code",
   "execution_count": null,
   "metadata": {},
   "outputs": [
    {
     "name": "stdout",
     "output_type": "stream",
     "text": [
      "* Running on local URL:  http://127.0.0.1:7880\n",
      "\n",
      "To create a public link, set `share=True` in `launch()`.\n"
     ]
    },
    {
     "data": {
      "text/html": [
       "<div><iframe src=\"http://127.0.0.1:7880/\" width=\"100%\" height=\"500\" allow=\"autoplay; camera; microphone; clipboard-read; clipboard-write;\" frameborder=\"0\" allowfullscreen></iframe></div>"
      ],
      "text/plain": [
       "<IPython.core.display.HTML object>"
      ]
     },
     "metadata": {},
     "output_type": "display_data"
    },
    {
     "data": {
      "text/plain": []
     },
     "execution_count": 48,
     "metadata": {},
     "output_type": "execute_result"
    },
    {
     "name": "stdout",
     "output_type": "stream",
     "text": [
      "tool_call ChatCompletionMessageToolCall(id='call_rhhpzr0s', function=Function(arguments='{\"destination_city\":\"any city\"}', name='get_ticket_price'), type='function', index=0)\n",
      "arguments {'destination_city': 'any city'}\n",
      "Tool get_ticket_price called for any city\n",
      "price Unknown\n",
      "tool_call ChatCompletionMessageToolCall(id='call_14luirex', function=Function(arguments='{\"destination_city\":\"London\"}', name='get_ticket_price'), type='function', index=0)\n",
      "arguments {'destination_city': 'London'}\n",
      "Tool get_ticket_price called for London\n",
      "price $799\n",
      "tool_call ChatCompletionMessageToolCall(id='call_0g2f8622', function=Function(arguments='{\"destination_city\":\"London\"}', name='get_ticket_price'), type='function', index=0)\n",
      "arguments {'destination_city': 'London'}\n",
      "Tool get_ticket_price called for London\n",
      "price $799\n",
      "tool_call ChatCompletionMessageToolCall(id='call_zmv6ko11', function=Function(arguments='{\"destination_city\":\"London\"}', name='get_ticket_price'), type='function', index=0)\n",
      "arguments {'destination_city': 'London'}\n",
      "Tool get_ticket_price called for London\n",
      "price $799\n",
      "tool_call ChatCompletionMessageToolCall(id='call_xwoy3oix', function=Function(arguments='{\"destination_city\":\"London\"}', name='get_ticket_price'), type='function', index=0)\n",
      "arguments {'destination_city': 'London'}\n",
      "Tool get_ticket_price called for London\n",
      "price $799\n"
     ]
    }
   ],
   "source": [
    "def chat(message, history):\n",
    "    messages = [{\"role\": \"system\", \"content\": system_message}] + history + [{\"role\": \"user\", \"content\": message}]\n",
    "    response = llm.chat.completions.create(model=model_name, messages=messages, tools=tools)\n",
    "\n",
    "    if response.choices[0].finish_reason==\"tool_calls\":\n",
    "        message = response.choices[0].message\n",
    "        response, city = handle_tool_call(message)\n",
    "        messages.append(message)\n",
    "        messages.append(response)\n",
    "        response = llm.chat.completions.create(model=model_name, messages=messages)\n",
    "    \n",
    "    return response.choices[0].message.content\n",
    "\n",
    "\n",
    "\n",
    "gr.ChatInterface(fn = chat, type = \"messages\").launch()"
   ]
  },
  {
   "cell_type": "code",
   "execution_count": null,
   "metadata": {},
   "outputs": [],
   "source": []
  }
 ],
 "metadata": {
  "kernelspec": {
   "display_name": "projects",
   "language": "python",
   "name": "python3"
  },
  "language_info": {
   "codemirror_mode": {
    "name": "ipython",
    "version": 3
   },
   "file_extension": ".py",
   "mimetype": "text/x-python",
   "name": "python",
   "nbconvert_exporter": "python",
   "pygments_lexer": "ipython3",
   "version": "3.10.16"
  }
 },
 "nbformat": 4,
 "nbformat_minor": 2
}
